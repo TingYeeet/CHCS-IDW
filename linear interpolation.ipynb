{
 "cells": [
  {
   "cell_type": "code",
   "execution_count": 1,
   "id": "d5b001d2",
   "metadata": {},
   "outputs": [
    {
     "name": "stdout",
     "output_type": "stream",
     "text": [
      "✅ 插值後無 NaN 值\n",
      "插值與四捨五入處理完成，結果已儲存為 'PM25_2015_interpolated.csv'\n",
      "✅ 插值後無 NaN 值\n",
      "插值與四捨五入處理完成，結果已儲存為 'PM25_2016_interpolated.csv'\n",
      "✅ 插值後無 NaN 值\n",
      "插值與四捨五入處理完成，結果已儲存為 'PM25_2017_interpolated.csv'\n",
      "✅ 插值後無 NaN 值\n",
      "插值與四捨五入處理完成，結果已儲存為 'PM25_2018_interpolated.csv'\n",
      "✅ 插值後無 NaN 值\n",
      "插值與四捨五入處理完成，結果已儲存為 'PM25_2019_interpolated.csv'\n",
      "✅ 插值後無 NaN 值\n",
      "插值與四捨五入處理完成，結果已儲存為 'PM25_2020_interpolated.csv'\n",
      "✅ 插值後無 NaN 值\n",
      "插值與四捨五入處理完成，結果已儲存為 'PM25_2021_interpolated.csv'\n",
      "✅ 插值後無 NaN 值\n",
      "插值與四捨五入處理完成，結果已儲存為 'PM25_2022_interpolated.csv'\n",
      "✅ 插值後無 NaN 值\n",
      "插值與四捨五入處理完成，結果已儲存為 'PM25_2023_interpolated.csv'\n"
     ]
    }
   ],
   "source": [
    "import pandas as pd\n",
    "\n",
    "for year in range(2015, 2024, 1):\n",
    "    # 讀取 CSV 檔案\n",
    "    df = pd.read_csv(f'./4_月統計資料_移除外島/PM25_yearly_merged_{year}_filtered.csv')\n",
    "\n",
    "    # 將 '日期' 欄轉換為 datetime 類型\n",
    "    df['日期'] = pd.to_datetime(df['日期'])\n",
    "\n",
    "    # 將 '日期' 設為索引（可選）\n",
    "    df.set_index('日期', inplace=True)\n",
    "\n",
    "    # 線性插值處理\n",
    "    df_interpolated = df.interpolate(method='linear', axis=0)\n",
    "\n",
    "    # 填補最前或最後仍有 NaN 的值\n",
    "    df_interpolated = df_interpolated.fillna(method='ffill').fillna(method='bfill')\n",
    "\n",
    "    # 四捨五入到小數第二位\n",
    "    df_interpolated = df_interpolated.round(2)\n",
    "\n",
    "    # 檢查是否仍含有 NaN\n",
    "    contains_nan = df_interpolated.isna().any().any()\n",
    "\n",
    "    if contains_nan:\n",
    "        print(\"❗ 插值後仍有 NaN 值存在\")\n",
    "    else:\n",
    "        print(\"✅ 插值後無 NaN 值\")\n",
    "\n",
    "    # 儲存結果\n",
    "    df_interpolated.to_csv(f'./插值後月統計/PM25_{year}_interpolated.csv', encoding='utf-8-sig')\n",
    "\n",
    "    print(f\"插值與四捨五入處理完成，結果已儲存為 'PM25_{year}_interpolated.csv'\")\n"
   ]
  }
 ],
 "metadata": {
  "kernelspec": {
   "display_name": "Python 3",
   "language": "python",
   "name": "python3"
  },
  "language_info": {
   "codemirror_mode": {
    "name": "ipython",
    "version": 3
   },
   "file_extension": ".py",
   "mimetype": "text/x-python",
   "name": "python",
   "nbconvert_exporter": "python",
   "pygments_lexer": "ipython3",
   "version": "3.11.2"
  }
 },
 "nbformat": 4,
 "nbformat_minor": 5
}
